{
 "cells": [
  {
   "cell_type": "code",
   "execution_count": 1,
   "metadata": {
    "collapsed": true
   },
   "outputs": [],
   "source": [
    "import numpy as np\n",
    "import pandas as pd\n",
    "import re\n",
    "import matplotlib.pyplot as plt\n",
    "from matplotlib import cm\n",
    "import seaborn as sns\n",
    "%matplotlib inline "
   ]
  },
  {
   "cell_type": "code",
   "execution_count": 2,
   "metadata": {},
   "outputs": [
    {
     "data": {
      "text/html": [
       "<div>\n",
       "<style>\n",
       "    .dataframe thead tr:only-child th {\n",
       "        text-align: right;\n",
       "    }\n",
       "\n",
       "    .dataframe thead th {\n",
       "        text-align: left;\n",
       "    }\n",
       "\n",
       "    .dataframe tbody tr th {\n",
       "        vertical-align: top;\n",
       "    }\n",
       "</style>\n",
       "<table border=\"1\" class=\"dataframe\">\n",
       "  <thead>\n",
       "    <tr style=\"text-align: right;\">\n",
       "      <th></th>\n",
       "      <th>categoryId</th>\n",
       "      <th>commentCount</th>\n",
       "      <th>defaultAudioLanguage</th>\n",
       "      <th>defaultLanguage</th>\n",
       "      <th>definition</th>\n",
       "      <th>description</th>\n",
       "      <th>dislikeCount</th>\n",
       "      <th>duration</th>\n",
       "      <th>favoriteCount</th>\n",
       "      <th>likeCount</th>\n",
       "      <th>projection</th>\n",
       "      <th>publishedAt</th>\n",
       "      <th>tags</th>\n",
       "      <th>title</th>\n",
       "      <th>video_Link</th>\n",
       "      <th>viewCount</th>\n",
       "    </tr>\n",
       "  </thead>\n",
       "  <tbody>\n",
       "    <tr>\n",
       "      <th>0</th>\n",
       "      <td>25</td>\n",
       "      <td>0.0</td>\n",
       "      <td>ar</td>\n",
       "      <td>NaN</td>\n",
       "      <td>sd</td>\n",
       "      <td>مشاركة أحمد الطاهر من #ليبيا في #أناالشاهد عن ...</td>\n",
       "      <td>0.0</td>\n",
       "      <td>290</td>\n",
       "      <td>0</td>\n",
       "      <td>2.0</td>\n",
       "      <td>rectangular</td>\n",
       "      <td>2015-01-22T15:44:16.000Z</td>\n",
       "      <td>Africa (Continent),أنا الشاهد,الحلقة 137,وفاء ...</td>\n",
       "      <td>أنا الشاهد: أطول جدارية في إفريقيا</td>\n",
       "      <td>https://www.youtube.com/watch?v=UvRqn5R-Buc</td>\n",
       "      <td>432</td>\n",
       "    </tr>\n",
       "    <tr>\n",
       "      <th>1</th>\n",
       "      <td>25</td>\n",
       "      <td>1.0</td>\n",
       "      <td>ar</td>\n",
       "      <td>NaN</td>\n",
       "      <td>hd</td>\n",
       "      <td>ديفيد فنشر مخرج بارع, موهوب بإخراج أفلام غامضة...</td>\n",
       "      <td>0.0</td>\n",
       "      <td>288</td>\n",
       "      <td>0</td>\n",
       "      <td>19.0</td>\n",
       "      <td>rectangular</td>\n",
       "      <td>2014-11-28T12:10:00.000Z</td>\n",
       "      <td>Film (Media Genre),Alternative,gone girl,sam a...</td>\n",
       "      <td>David Fincher سينما بديلة: مقابلة مع ديفيد فنشر</td>\n",
       "      <td>https://www.youtube.com/watch?v=i9hOn7RNl10</td>\n",
       "      <td>942</td>\n",
       "    </tr>\n",
       "    <tr>\n",
       "      <th>2</th>\n",
       "      <td>25</td>\n",
       "      <td>2.0</td>\n",
       "      <td>ar</td>\n",
       "      <td>NaN</td>\n",
       "      <td>sd</td>\n",
       "      <td>تواصلوا مع مقدم الحلقة محمد عبد الحميد على صفح...</td>\n",
       "      <td>NaN</td>\n",
       "      <td>3084</td>\n",
       "      <td>0</td>\n",
       "      <td>NaN</td>\n",
       "      <td>rectangular</td>\n",
       "      <td>2014-07-16T18:11:56.000Z</td>\n",
       "      <td>نقطة حوار,محمد عبد الحميد,حماس,غزة,اسرائيل</td>\n",
       "      <td>نقطة حوار: ما حقيقة قدرات حماس القتالية؟</td>\n",
       "      <td>https://www.youtube.com/watch?v=V0qaisLdP-k</td>\n",
       "      <td>6020</td>\n",
       "    </tr>\n",
       "    <tr>\n",
       "      <th>3</th>\n",
       "      <td>25</td>\n",
       "      <td>0.0</td>\n",
       "      <td>ar</td>\n",
       "      <td>NaN</td>\n",
       "      <td>hd</td>\n",
       "      <td>تناقش حلقة دنيانا هذا الأسبوع انطلاق الحملة ال...</td>\n",
       "      <td>4.0</td>\n",
       "      <td>3276</td>\n",
       "      <td>0</td>\n",
       "      <td>4.0</td>\n",
       "      <td>rectangular</td>\n",
       "      <td>2014-09-27T15:19:37.000Z</td>\n",
       "      <td>بي بي سي عربي,برامج بي بي سي عربي,دنيانا,ندى ع...</td>\n",
       "      <td>قناة بي بي سي عربي : دنيانا - حلقة (18)</td>\n",
       "      <td>https://www.youtube.com/watch?v=9pkJrLq3qHk</td>\n",
       "      <td>1726</td>\n",
       "    </tr>\n",
       "    <tr>\n",
       "      <th>4</th>\n",
       "      <td>25</td>\n",
       "      <td>0.0</td>\n",
       "      <td>ar</td>\n",
       "      <td>NaN</td>\n",
       "      <td>sd</td>\n",
       "      <td>أين تقف تركيا من الصراع الدائر في مصر حاليا ؟\\...</td>\n",
       "      <td>NaN</td>\n",
       "      <td>3090</td>\n",
       "      <td>0</td>\n",
       "      <td>NaN</td>\n",
       "      <td>rectangular</td>\n",
       "      <td>2013-07-15T17:31:53.000Z</td>\n",
       "      <td>محمد سيف,نقطة حوار,موقف تركيا تجته مصر,مصر,ترك...</td>\n",
       "      <td>نقطة حوار: أين تقف تركيا تجاه ما يحدث في مصر ب...</td>\n",
       "      <td>https://www.youtube.com/watch?v=b3svYUneFQc</td>\n",
       "      <td>608</td>\n",
       "    </tr>\n",
       "  </tbody>\n",
       "</table>\n",
       "</div>"
      ],
      "text/plain": [
       "   categoryId  commentCount defaultAudioLanguage defaultLanguage definition  \\\n",
       "0          25           0.0                   ar             NaN         sd   \n",
       "1          25           1.0                   ar             NaN         hd   \n",
       "2          25           2.0                   ar             NaN         sd   \n",
       "3          25           0.0                   ar             NaN         hd   \n",
       "4          25           0.0                   ar             NaN         sd   \n",
       "\n",
       "                                         description  dislikeCount  duration  \\\n",
       "0  مشاركة أحمد الطاهر من #ليبيا في #أناالشاهد عن ...           0.0       290   \n",
       "1  ديفيد فنشر مخرج بارع, موهوب بإخراج أفلام غامضة...           0.0       288   \n",
       "2  تواصلوا مع مقدم الحلقة محمد عبد الحميد على صفح...           NaN      3084   \n",
       "3  تناقش حلقة دنيانا هذا الأسبوع انطلاق الحملة ال...           4.0      3276   \n",
       "4  أين تقف تركيا من الصراع الدائر في مصر حاليا ؟\\...           NaN      3090   \n",
       "\n",
       "   favoriteCount  likeCount   projection               publishedAt  \\\n",
       "0              0        2.0  rectangular  2015-01-22T15:44:16.000Z   \n",
       "1              0       19.0  rectangular  2014-11-28T12:10:00.000Z   \n",
       "2              0        NaN  rectangular  2014-07-16T18:11:56.000Z   \n",
       "3              0        4.0  rectangular  2014-09-27T15:19:37.000Z   \n",
       "4              0        NaN  rectangular  2013-07-15T17:31:53.000Z   \n",
       "\n",
       "                                                tags  \\\n",
       "0  Africa (Continent),أنا الشاهد,الحلقة 137,وفاء ...   \n",
       "1  Film (Media Genre),Alternative,gone girl,sam a...   \n",
       "2         نقطة حوار,محمد عبد الحميد,حماس,غزة,اسرائيل   \n",
       "3  بي بي سي عربي,برامج بي بي سي عربي,دنيانا,ندى ع...   \n",
       "4  محمد سيف,نقطة حوار,موقف تركيا تجته مصر,مصر,ترك...   \n",
       "\n",
       "                                               title  \\\n",
       "0                 أنا الشاهد: أطول جدارية في إفريقيا   \n",
       "1    David Fincher سينما بديلة: مقابلة مع ديفيد فنشر   \n",
       "2           نقطة حوار: ما حقيقة قدرات حماس القتالية؟   \n",
       "3            قناة بي بي سي عربي : دنيانا - حلقة (18)   \n",
       "4  نقطة حوار: أين تقف تركيا تجاه ما يحدث في مصر ب...   \n",
       "\n",
       "                                    video_Link  viewCount  \n",
       "0  https://www.youtube.com/watch?v=UvRqn5R-Buc        432  \n",
       "1  https://www.youtube.com/watch?v=i9hOn7RNl10        942  \n",
       "2  https://www.youtube.com/watch?v=V0qaisLdP-k       6020  \n",
       "3  https://www.youtube.com/watch?v=9pkJrLq3qHk       1726  \n",
       "4  https://www.youtube.com/watch?v=b3svYUneFQc        608  "
      ]
     },
     "execution_count": 2,
     "metadata": {},
     "output_type": "execute_result"
    }
   ],
   "source": [
    "DF = pd.read_csv('BBC.csv')\n",
    "DF.head()"
   ]
  },
  {
   "cell_type": "code",
   "execution_count": 3,
   "metadata": {},
   "outputs": [
    {
     "data": {
      "text/plain": [
       "categoryId                int64\n",
       "commentCount            float64\n",
       "defaultAudioLanguage     object\n",
       "defaultLanguage          object\n",
       "definition               object\n",
       "description              object\n",
       "dislikeCount            float64\n",
       "duration                  int64\n",
       "favoriteCount             int64\n",
       "likeCount               float64\n",
       "projection               object\n",
       "publishedAt              object\n",
       "tags                     object\n",
       "title                    object\n",
       "video_Link               object\n",
       "viewCount                 int64\n",
       "dtype: object"
      ]
     },
     "execution_count": 3,
     "metadata": {},
     "output_type": "execute_result"
    }
   ],
   "source": [
    "DF.dtypes"
   ]
  },
  {
   "cell_type": "code",
   "execution_count": 4,
   "metadata": {},
   "outputs": [
    {
     "data": {
      "text/html": [
       "<div>\n",
       "<style>\n",
       "    .dataframe thead tr:only-child th {\n",
       "        text-align: right;\n",
       "    }\n",
       "\n",
       "    .dataframe thead th {\n",
       "        text-align: left;\n",
       "    }\n",
       "\n",
       "    .dataframe tbody tr th {\n",
       "        vertical-align: top;\n",
       "    }\n",
       "</style>\n",
       "<table border=\"1\" class=\"dataframe\">\n",
       "  <thead>\n",
       "    <tr style=\"text-align: right;\">\n",
       "      <th></th>\n",
       "      <th>categoryId</th>\n",
       "      <th>commentCount</th>\n",
       "      <th>dislikeCount</th>\n",
       "      <th>duration</th>\n",
       "      <th>favoriteCount</th>\n",
       "      <th>likeCount</th>\n",
       "      <th>viewCount</th>\n",
       "    </tr>\n",
       "  </thead>\n",
       "  <tbody>\n",
       "    <tr>\n",
       "      <th>count</th>\n",
       "      <td>4337.000000</td>\n",
       "      <td>4169.000000</td>\n",
       "      <td>4017.000000</td>\n",
       "      <td>4337.000000</td>\n",
       "      <td>4337.0</td>\n",
       "      <td>4017.000000</td>\n",
       "      <td>4.337000e+03</td>\n",
       "    </tr>\n",
       "    <tr>\n",
       "      <th>mean</th>\n",
       "      <td>24.785797</td>\n",
       "      <td>34.910050</td>\n",
       "      <td>31.098083</td>\n",
       "      <td>1454.276458</td>\n",
       "      <td>0.0</td>\n",
       "      <td>133.063480</td>\n",
       "      <td>2.958303e+04</td>\n",
       "    </tr>\n",
       "    <tr>\n",
       "      <th>std</th>\n",
       "      <td>1.437505</td>\n",
       "      <td>204.832729</td>\n",
       "      <td>273.970155</td>\n",
       "      <td>1231.502876</td>\n",
       "      <td>0.0</td>\n",
       "      <td>842.566671</td>\n",
       "      <td>2.400191e+05</td>\n",
       "    </tr>\n",
       "    <tr>\n",
       "      <th>min</th>\n",
       "      <td>1.000000</td>\n",
       "      <td>0.000000</td>\n",
       "      <td>0.000000</td>\n",
       "      <td>0.000000</td>\n",
       "      <td>0.0</td>\n",
       "      <td>0.000000</td>\n",
       "      <td>0.000000e+00</td>\n",
       "    </tr>\n",
       "    <tr>\n",
       "      <th>25%</th>\n",
       "      <td>25.000000</td>\n",
       "      <td>0.000000</td>\n",
       "      <td>0.000000</td>\n",
       "      <td>323.000000</td>\n",
       "      <td>0.0</td>\n",
       "      <td>3.000000</td>\n",
       "      <td>5.970000e+02</td>\n",
       "    </tr>\n",
       "    <tr>\n",
       "      <th>50%</th>\n",
       "      <td>25.000000</td>\n",
       "      <td>1.000000</td>\n",
       "      <td>1.000000</td>\n",
       "      <td>1093.000000</td>\n",
       "      <td>0.0</td>\n",
       "      <td>10.000000</td>\n",
       "      <td>1.170000e+03</td>\n",
       "    </tr>\n",
       "    <tr>\n",
       "      <th>75%</th>\n",
       "      <td>25.000000</td>\n",
       "      <td>4.000000</td>\n",
       "      <td>5.000000</td>\n",
       "      <td>3088.000000</td>\n",
       "      <td>0.0</td>\n",
       "      <td>29.000000</td>\n",
       "      <td>3.163000e+03</td>\n",
       "    </tr>\n",
       "    <tr>\n",
       "      <th>max</th>\n",
       "      <td>28.000000</td>\n",
       "      <td>5158.000000</td>\n",
       "      <td>11270.000000</td>\n",
       "      <td>6552.000000</td>\n",
       "      <td>0.0</td>\n",
       "      <td>21502.000000</td>\n",
       "      <td>8.081246e+06</td>\n",
       "    </tr>\n",
       "  </tbody>\n",
       "</table>\n",
       "</div>"
      ],
      "text/plain": [
       "        categoryId  commentCount  dislikeCount     duration  favoriteCount  \\\n",
       "count  4337.000000   4169.000000   4017.000000  4337.000000         4337.0   \n",
       "mean     24.785797     34.910050     31.098083  1454.276458            0.0   \n",
       "std       1.437505    204.832729    273.970155  1231.502876            0.0   \n",
       "min       1.000000      0.000000      0.000000     0.000000            0.0   \n",
       "25%      25.000000      0.000000      0.000000   323.000000            0.0   \n",
       "50%      25.000000      1.000000      1.000000  1093.000000            0.0   \n",
       "75%      25.000000      4.000000      5.000000  3088.000000            0.0   \n",
       "max      28.000000   5158.000000  11270.000000  6552.000000            0.0   \n",
       "\n",
       "          likeCount     viewCount  \n",
       "count   4017.000000  4.337000e+03  \n",
       "mean     133.063480  2.958303e+04  \n",
       "std      842.566671  2.400191e+05  \n",
       "min        0.000000  0.000000e+00  \n",
       "25%        3.000000  5.970000e+02  \n",
       "50%       10.000000  1.170000e+03  \n",
       "75%       29.000000  3.163000e+03  \n",
       "max    21502.000000  8.081246e+06  "
      ]
     },
     "execution_count": 4,
     "metadata": {},
     "output_type": "execute_result"
    }
   ],
   "source": [
    "DF.describe()"
   ]
  },
  {
   "cell_type": "code",
   "execution_count": 5,
   "metadata": {
    "collapsed": true
   },
   "outputs": [],
   "source": [
    "DF.drop('favoriteCount', axis=1, inplace=True) # it has one value only\n",
    "DF.drop('projection', axis=1, inplace=True)    # it has 2 values but one take 99.8%\n",
    "DF.drop('defaultAudioLanguage', axis=1, inplace=True) # one take 99%"
   ]
  },
  {
   "cell_type": "code",
   "execution_count": 6,
   "metadata": {},
   "outputs": [
    {
     "data": {
      "text/html": [
       "<div>\n",
       "<style>\n",
       "    .dataframe thead tr:only-child th {\n",
       "        text-align: right;\n",
       "    }\n",
       "\n",
       "    .dataframe thead th {\n",
       "        text-align: left;\n",
       "    }\n",
       "\n",
       "    .dataframe tbody tr th {\n",
       "        vertical-align: top;\n",
       "    }\n",
       "</style>\n",
       "<table border=\"1\" class=\"dataframe\">\n",
       "  <thead>\n",
       "    <tr style=\"text-align: right;\">\n",
       "      <th></th>\n",
       "      <th>categoryId</th>\n",
       "      <th>commentCount</th>\n",
       "      <th>defaultLanguage</th>\n",
       "      <th>definition</th>\n",
       "      <th>description</th>\n",
       "      <th>dislikeCount</th>\n",
       "      <th>duration</th>\n",
       "      <th>likeCount</th>\n",
       "      <th>publishedAt</th>\n",
       "      <th>tags</th>\n",
       "      <th>title</th>\n",
       "      <th>video_Link</th>\n",
       "      <th>viewCount</th>\n",
       "    </tr>\n",
       "  </thead>\n",
       "  <tbody>\n",
       "    <tr>\n",
       "      <th>0</th>\n",
       "      <td>25</td>\n",
       "      <td>0.0</td>\n",
       "      <td>NaN</td>\n",
       "      <td>sd</td>\n",
       "      <td>مشاركة أحمد الطاهر من #ليبيا في #أناالشاهد عن ...</td>\n",
       "      <td>0.0</td>\n",
       "      <td>290</td>\n",
       "      <td>2.0</td>\n",
       "      <td>2015-01-22T15:44:16.000Z</td>\n",
       "      <td>Africa (Continent),أنا الشاهد,الحلقة 137,وفاء ...</td>\n",
       "      <td>أنا الشاهد: أطول جدارية في إفريقيا</td>\n",
       "      <td>https://www.youtube.com/watch?v=UvRqn5R-Buc</td>\n",
       "      <td>432</td>\n",
       "    </tr>\n",
       "    <tr>\n",
       "      <th>1</th>\n",
       "      <td>25</td>\n",
       "      <td>1.0</td>\n",
       "      <td>NaN</td>\n",
       "      <td>hd</td>\n",
       "      <td>ديفيد فنشر مخرج بارع, موهوب بإخراج أفلام غامضة...</td>\n",
       "      <td>0.0</td>\n",
       "      <td>288</td>\n",
       "      <td>19.0</td>\n",
       "      <td>2014-11-28T12:10:00.000Z</td>\n",
       "      <td>Film (Media Genre),Alternative,gone girl,sam a...</td>\n",
       "      <td>David Fincher سينما بديلة: مقابلة مع ديفيد فنشر</td>\n",
       "      <td>https://www.youtube.com/watch?v=i9hOn7RNl10</td>\n",
       "      <td>942</td>\n",
       "    </tr>\n",
       "    <tr>\n",
       "      <th>2</th>\n",
       "      <td>25</td>\n",
       "      <td>2.0</td>\n",
       "      <td>NaN</td>\n",
       "      <td>sd</td>\n",
       "      <td>تواصلوا مع مقدم الحلقة محمد عبد الحميد على صفح...</td>\n",
       "      <td>NaN</td>\n",
       "      <td>3084</td>\n",
       "      <td>NaN</td>\n",
       "      <td>2014-07-16T18:11:56.000Z</td>\n",
       "      <td>نقطة حوار,محمد عبد الحميد,حماس,غزة,اسرائيل</td>\n",
       "      <td>نقطة حوار: ما حقيقة قدرات حماس القتالية؟</td>\n",
       "      <td>https://www.youtube.com/watch?v=V0qaisLdP-k</td>\n",
       "      <td>6020</td>\n",
       "    </tr>\n",
       "    <tr>\n",
       "      <th>3</th>\n",
       "      <td>25</td>\n",
       "      <td>0.0</td>\n",
       "      <td>NaN</td>\n",
       "      <td>hd</td>\n",
       "      <td>تناقش حلقة دنيانا هذا الأسبوع انطلاق الحملة ال...</td>\n",
       "      <td>4.0</td>\n",
       "      <td>3276</td>\n",
       "      <td>4.0</td>\n",
       "      <td>2014-09-27T15:19:37.000Z</td>\n",
       "      <td>بي بي سي عربي,برامج بي بي سي عربي,دنيانا,ندى ع...</td>\n",
       "      <td>قناة بي بي سي عربي : دنيانا - حلقة (18)</td>\n",
       "      <td>https://www.youtube.com/watch?v=9pkJrLq3qHk</td>\n",
       "      <td>1726</td>\n",
       "    </tr>\n",
       "    <tr>\n",
       "      <th>4</th>\n",
       "      <td>25</td>\n",
       "      <td>0.0</td>\n",
       "      <td>NaN</td>\n",
       "      <td>sd</td>\n",
       "      <td>أين تقف تركيا من الصراع الدائر في مصر حاليا ؟\\...</td>\n",
       "      <td>NaN</td>\n",
       "      <td>3090</td>\n",
       "      <td>NaN</td>\n",
       "      <td>2013-07-15T17:31:53.000Z</td>\n",
       "      <td>محمد سيف,نقطة حوار,موقف تركيا تجته مصر,مصر,ترك...</td>\n",
       "      <td>نقطة حوار: أين تقف تركيا تجاه ما يحدث في مصر ب...</td>\n",
       "      <td>https://www.youtube.com/watch?v=b3svYUneFQc</td>\n",
       "      <td>608</td>\n",
       "    </tr>\n",
       "  </tbody>\n",
       "</table>\n",
       "</div>"
      ],
      "text/plain": [
       "   categoryId  commentCount defaultLanguage definition  \\\n",
       "0          25           0.0             NaN         sd   \n",
       "1          25           1.0             NaN         hd   \n",
       "2          25           2.0             NaN         sd   \n",
       "3          25           0.0             NaN         hd   \n",
       "4          25           0.0             NaN         sd   \n",
       "\n",
       "                                         description  dislikeCount  duration  \\\n",
       "0  مشاركة أحمد الطاهر من #ليبيا في #أناالشاهد عن ...           0.0       290   \n",
       "1  ديفيد فنشر مخرج بارع, موهوب بإخراج أفلام غامضة...           0.0       288   \n",
       "2  تواصلوا مع مقدم الحلقة محمد عبد الحميد على صفح...           NaN      3084   \n",
       "3  تناقش حلقة دنيانا هذا الأسبوع انطلاق الحملة ال...           4.0      3276   \n",
       "4  أين تقف تركيا من الصراع الدائر في مصر حاليا ؟\\...           NaN      3090   \n",
       "\n",
       "   likeCount               publishedAt  \\\n",
       "0        2.0  2015-01-22T15:44:16.000Z   \n",
       "1       19.0  2014-11-28T12:10:00.000Z   \n",
       "2        NaN  2014-07-16T18:11:56.000Z   \n",
       "3        4.0  2014-09-27T15:19:37.000Z   \n",
       "4        NaN  2013-07-15T17:31:53.000Z   \n",
       "\n",
       "                                                tags  \\\n",
       "0  Africa (Continent),أنا الشاهد,الحلقة 137,وفاء ...   \n",
       "1  Film (Media Genre),Alternative,gone girl,sam a...   \n",
       "2         نقطة حوار,محمد عبد الحميد,حماس,غزة,اسرائيل   \n",
       "3  بي بي سي عربي,برامج بي بي سي عربي,دنيانا,ندى ع...   \n",
       "4  محمد سيف,نقطة حوار,موقف تركيا تجته مصر,مصر,ترك...   \n",
       "\n",
       "                                               title  \\\n",
       "0                 أنا الشاهد: أطول جدارية في إفريقيا   \n",
       "1    David Fincher سينما بديلة: مقابلة مع ديفيد فنشر   \n",
       "2           نقطة حوار: ما حقيقة قدرات حماس القتالية؟   \n",
       "3            قناة بي بي سي عربي : دنيانا - حلقة (18)   \n",
       "4  نقطة حوار: أين تقف تركيا تجاه ما يحدث في مصر ب...   \n",
       "\n",
       "                                    video_Link  viewCount  \n",
       "0  https://www.youtube.com/watch?v=UvRqn5R-Buc        432  \n",
       "1  https://www.youtube.com/watch?v=i9hOn7RNl10        942  \n",
       "2  https://www.youtube.com/watch?v=V0qaisLdP-k       6020  \n",
       "3  https://www.youtube.com/watch?v=9pkJrLq3qHk       1726  \n",
       "4  https://www.youtube.com/watch?v=b3svYUneFQc        608  "
      ]
     },
     "execution_count": 6,
     "metadata": {},
     "output_type": "execute_result"
    }
   ],
   "source": [
    "DF.head()"
   ]
  },
  {
   "cell_type": "code",
   "execution_count": 7,
   "metadata": {
    "collapsed": true
   },
   "outputs": [],
   "source": [
    "DF['publishedAt'] = pd.to_datetime(DF['publishedAt'], format='%Y-%m-%dT%H:%M:%S.%fZ') #from Stack Overflow"
   ]
  },
  {
   "cell_type": "code",
   "execution_count": 8,
   "metadata": {
    "collapsed": true
   },
   "outputs": [],
   "source": [
    "DF['publish_year']= DF['publishedAt'].apply(lambda x: x.year)\n",
    "DF['publish_month']= DF['publishedAt'].apply(lambda x: x.month)\n",
    "DF['publish_day']= DF['publishedAt'].apply(lambda x: x.day)\n",
    "DF['publish_week_day'] = DF['publishedAt'].apply(lambda x: x.date().strftime(\"%A\"))\n",
    "DF['publish_hour']= DF['publishedAt'].apply(lambda x: x.hour)\n",
    "DF['publish_duration'] = np.where(DF['publish_hour'] >= 12, 1, 0)           # PM -> 1, AM -> 0"
   ]
  },
  {
   "cell_type": "code",
   "execution_count": 9,
   "metadata": {
    "collapsed": true
   },
   "outputs": [],
   "source": [
    "id_to_category = {\n",
    " '1': 'Film & Animation',\n",
    " '2': 'Autos & Vehicles',\n",
    " '10': 'Music',\n",
    " '15': 'Pets & Animals',\n",
    " '17': 'Sports',\n",
    " '18': 'Short Movies',\n",
    " '19': 'Travel & Events',\n",
    " '20': 'Gaming',\n",
    " '21': 'Videoblogging',\n",
    " '22': 'People & Blogs',\n",
    " '23': 'Comedy',\n",
    " '24': 'Entertainment',\n",
    " '25': 'News & Politics',\n",
    " '26': 'Howto & Style',\n",
    " '27': 'Education',\n",
    " '28': 'Science & Technology',\n",
    " '29': 'Nonprofits & Activism',\n",
    " '30': 'Movies',\n",
    " '31': 'Anime/Animation',\n",
    " '32': 'Action/Adventure',\n",
    " '33': 'Classics',\n",
    " '34': 'Comedy',\n",
    " '35': 'Documentary',\n",
    " '36': 'Drama',\n",
    " '37': 'Family',\n",
    " '38': 'Foreign',\n",
    " '39': 'Horror',\n",
    " '40': 'Sci-Fi/Fantasy',\n",
    " '41': 'Thriller',\n",
    " '42': 'Shorts',\n",
    " '43': 'Shows',\n",
    " '44': 'Trailers'\n",
    "}"
   ]
  },
  {
   "cell_type": "code",
   "execution_count": 10,
   "metadata": {
    "collapsed": true
   },
   "outputs": [],
   "source": [
    "DF.insert(1, 'category_name', DF['categoryId'].astype(str).map(id_to_category))"
   ]
  },
  {
   "cell_type": "code",
   "execution_count": 11,
   "metadata": {
    "collapsed": true
   },
   "outputs": [],
   "source": [
    "DF['videoId'] = DF['video_Link'].apply(lambda x: x.split('?v=')[1])"
   ]
  },
  {
   "cell_type": "code",
   "execution_count": 12,
   "metadata": {},
   "outputs": [
    {
     "data": {
      "text/plain": [
       "Timestamp('2011-03-14 15:29:40')"
      ]
     },
     "execution_count": 12,
     "metadata": {},
     "output_type": "execute_result"
    }
   ],
   "source": [
    "DF.iloc[DF['viewCount'].idxmax()]['publishedAt']"
   ]
  },
  {
   "cell_type": "code",
   "execution_count": 13,
   "metadata": {},
   "outputs": [
    {
     "data": {
      "text/plain": [
       "Timestamp('2017-10-19 14:36:08')"
      ]
     },
     "execution_count": 13,
     "metadata": {},
     "output_type": "execute_result"
    }
   ],
   "source": [
    "DF.iloc[DF['viewCount'].idxmin()]['publishedAt']"
   ]
  },
  {
   "cell_type": "code",
   "execution_count": 14,
   "metadata": {
    "collapsed": true
   },
   "outputs": [],
   "source": [
    "Top_Cat = DF.groupby('category_name').count().sort_values(by = 'videoId', ascending = False)"
   ]
  },
  {
   "cell_type": "code",
   "execution_count": 15,
   "metadata": {},
   "outputs": [
    {
     "data": {
      "text/html": [
       "<div>\n",
       "<style>\n",
       "    .dataframe thead tr:only-child th {\n",
       "        text-align: right;\n",
       "    }\n",
       "\n",
       "    .dataframe thead th {\n",
       "        text-align: left;\n",
       "    }\n",
       "\n",
       "    .dataframe tbody tr th {\n",
       "        vertical-align: top;\n",
       "    }\n",
       "</style>\n",
       "<table border=\"1\" class=\"dataframe\">\n",
       "  <thead>\n",
       "    <tr style=\"text-align: right;\">\n",
       "      <th></th>\n",
       "      <th>categoryId</th>\n",
       "      <th>commentCount</th>\n",
       "      <th>defaultLanguage</th>\n",
       "      <th>definition</th>\n",
       "      <th>description</th>\n",
       "      <th>dislikeCount</th>\n",
       "      <th>duration</th>\n",
       "      <th>likeCount</th>\n",
       "      <th>publishedAt</th>\n",
       "      <th>tags</th>\n",
       "      <th>title</th>\n",
       "      <th>video_Link</th>\n",
       "      <th>viewCount</th>\n",
       "      <th>publish_year</th>\n",
       "      <th>publish_month</th>\n",
       "      <th>publish_day</th>\n",
       "      <th>publish_week_day</th>\n",
       "      <th>publish_hour</th>\n",
       "      <th>publish_duration</th>\n",
       "      <th>videoId</th>\n",
       "    </tr>\n",
       "    <tr>\n",
       "      <th>category_name</th>\n",
       "      <th></th>\n",
       "      <th></th>\n",
       "      <th></th>\n",
       "      <th></th>\n",
       "      <th></th>\n",
       "      <th></th>\n",
       "      <th></th>\n",
       "      <th></th>\n",
       "      <th></th>\n",
       "      <th></th>\n",
       "      <th></th>\n",
       "      <th></th>\n",
       "      <th></th>\n",
       "      <th></th>\n",
       "      <th></th>\n",
       "      <th></th>\n",
       "      <th></th>\n",
       "      <th></th>\n",
       "      <th></th>\n",
       "      <th></th>\n",
       "    </tr>\n",
       "  </thead>\n",
       "  <tbody>\n",
       "    <tr>\n",
       "      <th>News &amp; Politics</th>\n",
       "      <td>4087</td>\n",
       "      <td>3929</td>\n",
       "      <td>1772</td>\n",
       "      <td>4087</td>\n",
       "      <td>3985</td>\n",
       "      <td>3768</td>\n",
       "      <td>4087</td>\n",
       "      <td>3768</td>\n",
       "      <td>4087</td>\n",
       "      <td>4087</td>\n",
       "      <td>4087</td>\n",
       "      <td>4087</td>\n",
       "      <td>4087</td>\n",
       "      <td>4087</td>\n",
       "      <td>4087</td>\n",
       "      <td>4087</td>\n",
       "      <td>4087</td>\n",
       "      <td>4087</td>\n",
       "      <td>4087</td>\n",
       "      <td>4087</td>\n",
       "    </tr>\n",
       "    <tr>\n",
       "      <th>People &amp; Blogs</th>\n",
       "      <td>218</td>\n",
       "      <td>210</td>\n",
       "      <td>2</td>\n",
       "      <td>218</td>\n",
       "      <td>218</td>\n",
       "      <td>218</td>\n",
       "      <td>218</td>\n",
       "      <td>218</td>\n",
       "      <td>218</td>\n",
       "      <td>218</td>\n",
       "      <td>218</td>\n",
       "      <td>218</td>\n",
       "      <td>218</td>\n",
       "      <td>218</td>\n",
       "      <td>218</td>\n",
       "      <td>218</td>\n",
       "      <td>218</td>\n",
       "      <td>218</td>\n",
       "      <td>218</td>\n",
       "      <td>218</td>\n",
       "    </tr>\n",
       "    <tr>\n",
       "      <th>Film &amp; Animation</th>\n",
       "      <td>11</td>\n",
       "      <td>9</td>\n",
       "      <td>9</td>\n",
       "      <td>11</td>\n",
       "      <td>11</td>\n",
       "      <td>11</td>\n",
       "      <td>11</td>\n",
       "      <td>11</td>\n",
       "      <td>11</td>\n",
       "      <td>11</td>\n",
       "      <td>11</td>\n",
       "      <td>11</td>\n",
       "      <td>11</td>\n",
       "      <td>11</td>\n",
       "      <td>11</td>\n",
       "      <td>11</td>\n",
       "      <td>11</td>\n",
       "      <td>11</td>\n",
       "      <td>11</td>\n",
       "      <td>11</td>\n",
       "    </tr>\n",
       "    <tr>\n",
       "      <th>Science &amp; Technology</th>\n",
       "      <td>11</td>\n",
       "      <td>11</td>\n",
       "      <td>1</td>\n",
       "      <td>11</td>\n",
       "      <td>11</td>\n",
       "      <td>11</td>\n",
       "      <td>11</td>\n",
       "      <td>11</td>\n",
       "      <td>11</td>\n",
       "      <td>11</td>\n",
       "      <td>11</td>\n",
       "      <td>11</td>\n",
       "      <td>11</td>\n",
       "      <td>11</td>\n",
       "      <td>11</td>\n",
       "      <td>11</td>\n",
       "      <td>11</td>\n",
       "      <td>11</td>\n",
       "      <td>11</td>\n",
       "      <td>11</td>\n",
       "    </tr>\n",
       "    <tr>\n",
       "      <th>Entertainment</th>\n",
       "      <td>7</td>\n",
       "      <td>7</td>\n",
       "      <td>0</td>\n",
       "      <td>7</td>\n",
       "      <td>7</td>\n",
       "      <td>7</td>\n",
       "      <td>7</td>\n",
       "      <td>7</td>\n",
       "      <td>7</td>\n",
       "      <td>7</td>\n",
       "      <td>7</td>\n",
       "      <td>7</td>\n",
       "      <td>7</td>\n",
       "      <td>7</td>\n",
       "      <td>7</td>\n",
       "      <td>7</td>\n",
       "      <td>7</td>\n",
       "      <td>7</td>\n",
       "      <td>7</td>\n",
       "      <td>7</td>\n",
       "    </tr>\n",
       "    <tr>\n",
       "      <th>Autos &amp; Vehicles</th>\n",
       "      <td>1</td>\n",
       "      <td>1</td>\n",
       "      <td>1</td>\n",
       "      <td>1</td>\n",
       "      <td>1</td>\n",
       "      <td>1</td>\n",
       "      <td>1</td>\n",
       "      <td>1</td>\n",
       "      <td>1</td>\n",
       "      <td>1</td>\n",
       "      <td>1</td>\n",
       "      <td>1</td>\n",
       "      <td>1</td>\n",
       "      <td>1</td>\n",
       "      <td>1</td>\n",
       "      <td>1</td>\n",
       "      <td>1</td>\n",
       "      <td>1</td>\n",
       "      <td>1</td>\n",
       "      <td>1</td>\n",
       "    </tr>\n",
       "    <tr>\n",
       "      <th>Howto &amp; Style</th>\n",
       "      <td>1</td>\n",
       "      <td>1</td>\n",
       "      <td>0</td>\n",
       "      <td>1</td>\n",
       "      <td>1</td>\n",
       "      <td>0</td>\n",
       "      <td>1</td>\n",
       "      <td>0</td>\n",
       "      <td>1</td>\n",
       "      <td>1</td>\n",
       "      <td>1</td>\n",
       "      <td>1</td>\n",
       "      <td>1</td>\n",
       "      <td>1</td>\n",
       "      <td>1</td>\n",
       "      <td>1</td>\n",
       "      <td>1</td>\n",
       "      <td>1</td>\n",
       "      <td>1</td>\n",
       "      <td>1</td>\n",
       "    </tr>\n",
       "    <tr>\n",
       "      <th>Music</th>\n",
       "      <td>1</td>\n",
       "      <td>1</td>\n",
       "      <td>0</td>\n",
       "      <td>1</td>\n",
       "      <td>1</td>\n",
       "      <td>1</td>\n",
       "      <td>1</td>\n",
       "      <td>1</td>\n",
       "      <td>1</td>\n",
       "      <td>1</td>\n",
       "      <td>1</td>\n",
       "      <td>1</td>\n",
       "      <td>1</td>\n",
       "      <td>1</td>\n",
       "      <td>1</td>\n",
       "      <td>1</td>\n",
       "      <td>1</td>\n",
       "      <td>1</td>\n",
       "      <td>1</td>\n",
       "      <td>1</td>\n",
       "    </tr>\n",
       "  </tbody>\n",
       "</table>\n",
       "</div>"
      ],
      "text/plain": [
       "                      categoryId  commentCount  defaultLanguage  definition  \\\n",
       "category_name                                                                 \n",
       "News & Politics             4087          3929             1772        4087   \n",
       "People & Blogs               218           210                2         218   \n",
       "Film & Animation              11             9                9          11   \n",
       "Science & Technology          11            11                1          11   \n",
       "Entertainment                  7             7                0           7   \n",
       "Autos & Vehicles               1             1                1           1   \n",
       "Howto & Style                  1             1                0           1   \n",
       "Music                          1             1                0           1   \n",
       "\n",
       "                      description  dislikeCount  duration  likeCount  \\\n",
       "category_name                                                          \n",
       "News & Politics              3985          3768      4087       3768   \n",
       "People & Blogs                218           218       218        218   \n",
       "Film & Animation               11            11        11         11   \n",
       "Science & Technology           11            11        11         11   \n",
       "Entertainment                   7             7         7          7   \n",
       "Autos & Vehicles                1             1         1          1   \n",
       "Howto & Style                   1             0         1          0   \n",
       "Music                           1             1         1          1   \n",
       "\n",
       "                      publishedAt  tags  title  video_Link  viewCount  \\\n",
       "category_name                                                           \n",
       "News & Politics              4087  4087   4087        4087       4087   \n",
       "People & Blogs                218   218    218         218        218   \n",
       "Film & Animation               11    11     11          11         11   \n",
       "Science & Technology           11    11     11          11         11   \n",
       "Entertainment                   7     7      7           7          7   \n",
       "Autos & Vehicles                1     1      1           1          1   \n",
       "Howto & Style                   1     1      1           1          1   \n",
       "Music                           1     1      1           1          1   \n",
       "\n",
       "                      publish_year  publish_month  publish_day  \\\n",
       "category_name                                                    \n",
       "News & Politics               4087           4087         4087   \n",
       "People & Blogs                 218            218          218   \n",
       "Film & Animation                11             11           11   \n",
       "Science & Technology            11             11           11   \n",
       "Entertainment                    7              7            7   \n",
       "Autos & Vehicles                 1              1            1   \n",
       "Howto & Style                    1              1            1   \n",
       "Music                            1              1            1   \n",
       "\n",
       "                      publish_week_day  publish_hour  publish_duration  \\\n",
       "category_name                                                            \n",
       "News & Politics                   4087          4087              4087   \n",
       "People & Blogs                     218           218               218   \n",
       "Film & Animation                    11            11                11   \n",
       "Science & Technology                11            11                11   \n",
       "Entertainment                        7             7                 7   \n",
       "Autos & Vehicles                     1             1                 1   \n",
       "Howto & Style                        1             1                 1   \n",
       "Music                                1             1                 1   \n",
       "\n",
       "                      videoId  \n",
       "category_name                  \n",
       "News & Politics          4087  \n",
       "People & Blogs            218  \n",
       "Film & Animation           11  \n",
       "Science & Technology       11  \n",
       "Entertainment               7  \n",
       "Autos & Vehicles            1  \n",
       "Howto & Style               1  \n",
       "Music                       1  "
      ]
     },
     "execution_count": 15,
     "metadata": {},
     "output_type": "execute_result"
    }
   ],
   "source": [
    "Top_Cat"
   ]
  },
  {
   "cell_type": "code",
   "execution_count": 16,
   "metadata": {
    "collapsed": true
   },
   "outputs": [],
   "source": [
    "tags = pd.Series([y for x in DF['tags'] for y in re.split(\",\", x.lower())]).value_counts()"
   ]
  },
  {
   "cell_type": "code",
   "execution_count": 17,
   "metadata": {
    "collapsed": true
   },
   "outputs": [],
   "source": [
    "top_tags = tags[tags > 400]\n",
    "top_tags = pd.DataFrame(top_tags ,columns=['count'])"
   ]
  },
  {
   "cell_type": "code",
   "execution_count": 18,
   "metadata": {
    "collapsed": true
   },
   "outputs": [],
   "source": [
    "DF['total_interaction'] = DF['likeCount'] + DF['dislikeCount'] + DF['commentCount']"
   ]
  },
  {
   "cell_type": "code",
   "execution_count": 19,
   "metadata": {},
   "outputs": [
    {
     "data": {
      "text/plain": [
       "197.26683804627248"
      ]
     },
     "execution_count": 19,
     "metadata": {},
     "output_type": "execute_result"
    }
   ],
   "source": [
    "DF['total_interaction'].mean()"
   ]
  },
  {
   "cell_type": "code",
   "execution_count": 20,
   "metadata": {
    "collapsed": true
   },
   "outputs": [],
   "source": [
    "DF['interaction_percent'] = (DF['total_interaction'] / DF['viewCount']) * 100"
   ]
  },
  {
   "cell_type": "code",
   "execution_count": 21,
   "metadata": {},
   "outputs": [
    {
     "data": {
      "text/plain": [
       "1.2192115362251783"
      ]
     },
     "execution_count": 21,
     "metadata": {},
     "output_type": "execute_result"
    }
   ],
   "source": [
    "DF['interaction_percent'].mean()"
   ]
  },
  {
   "cell_type": "code",
   "execution_count": 22,
   "metadata": {},
   "outputs": [
    {
     "data": {
      "text/plain": [
       "11.594202898550725"
      ]
     },
     "execution_count": 22,
     "metadata": {},
     "output_type": "execute_result"
    }
   ],
   "source": [
    "DF['interaction_percent'].max()"
   ]
  },
  {
   "cell_type": "code",
   "execution_count": 23,
   "metadata": {
    "collapsed": true
   },
   "outputs": [],
   "source": [
    "DF['dislike_percentage'] = (DF['dislikeCount'] / (DF['dislikeCount'] + DF['likeCount']) * 100)"
   ]
  },
  {
   "cell_type": "code",
   "execution_count": 24,
   "metadata": {},
   "outputs": [
    {
     "data": {
      "text/plain": [
       "15.774550654854831"
      ]
     },
     "execution_count": 24,
     "metadata": {},
     "output_type": "execute_result"
    }
   ],
   "source": [
    "DF['dislike_percentage'].mean()"
   ]
  },
  {
   "cell_type": "code",
   "execution_count": 25,
   "metadata": {},
   "outputs": [
    {
     "data": {
      "text/html": [
       "<div>\n",
       "<style>\n",
       "    .dataframe thead tr:only-child th {\n",
       "        text-align: right;\n",
       "    }\n",
       "\n",
       "    .dataframe thead th {\n",
       "        text-align: left;\n",
       "    }\n",
       "\n",
       "    .dataframe tbody tr th {\n",
       "        vertical-align: top;\n",
       "    }\n",
       "</style>\n",
       "<table border=\"1\" class=\"dataframe\">\n",
       "  <thead>\n",
       "    <tr style=\"text-align: right;\">\n",
       "      <th></th>\n",
       "      <th>categoryId</th>\n",
       "      <th>category_name</th>\n",
       "      <th>commentCount</th>\n",
       "      <th>defaultLanguage</th>\n",
       "      <th>definition</th>\n",
       "      <th>description</th>\n",
       "      <th>dislikeCount</th>\n",
       "      <th>duration</th>\n",
       "      <th>likeCount</th>\n",
       "      <th>publishedAt</th>\n",
       "      <th>...</th>\n",
       "      <th>publish_year</th>\n",
       "      <th>publish_month</th>\n",
       "      <th>publish_day</th>\n",
       "      <th>publish_week_day</th>\n",
       "      <th>publish_hour</th>\n",
       "      <th>publish_duration</th>\n",
       "      <th>videoId</th>\n",
       "      <th>total_interaction</th>\n",
       "      <th>interaction_percent</th>\n",
       "      <th>dislike_percentage</th>\n",
       "    </tr>\n",
       "  </thead>\n",
       "  <tbody>\n",
       "    <tr>\n",
       "      <th>0</th>\n",
       "      <td>25</td>\n",
       "      <td>News &amp; Politics</td>\n",
       "      <td>0.0</td>\n",
       "      <td>NaN</td>\n",
       "      <td>sd</td>\n",
       "      <td>مشاركة أحمد الطاهر من #ليبيا في #أناالشاهد عن ...</td>\n",
       "      <td>0.0</td>\n",
       "      <td>290</td>\n",
       "      <td>2.0</td>\n",
       "      <td>2015-01-22 15:44:16</td>\n",
       "      <td>...</td>\n",
       "      <td>2015</td>\n",
       "      <td>1</td>\n",
       "      <td>22</td>\n",
       "      <td>Thursday</td>\n",
       "      <td>15</td>\n",
       "      <td>1</td>\n",
       "      <td>UvRqn5R-Buc</td>\n",
       "      <td>2.0</td>\n",
       "      <td>0.462963</td>\n",
       "      <td>0.0</td>\n",
       "    </tr>\n",
       "    <tr>\n",
       "      <th>1</th>\n",
       "      <td>25</td>\n",
       "      <td>News &amp; Politics</td>\n",
       "      <td>1.0</td>\n",
       "      <td>NaN</td>\n",
       "      <td>hd</td>\n",
       "      <td>ديفيد فنشر مخرج بارع, موهوب بإخراج أفلام غامضة...</td>\n",
       "      <td>0.0</td>\n",
       "      <td>288</td>\n",
       "      <td>19.0</td>\n",
       "      <td>2014-11-28 12:10:00</td>\n",
       "      <td>...</td>\n",
       "      <td>2014</td>\n",
       "      <td>11</td>\n",
       "      <td>28</td>\n",
       "      <td>Friday</td>\n",
       "      <td>12</td>\n",
       "      <td>1</td>\n",
       "      <td>i9hOn7RNl10</td>\n",
       "      <td>20.0</td>\n",
       "      <td>2.123142</td>\n",
       "      <td>0.0</td>\n",
       "    </tr>\n",
       "    <tr>\n",
       "      <th>2</th>\n",
       "      <td>25</td>\n",
       "      <td>News &amp; Politics</td>\n",
       "      <td>2.0</td>\n",
       "      <td>NaN</td>\n",
       "      <td>sd</td>\n",
       "      <td>تواصلوا مع مقدم الحلقة محمد عبد الحميد على صفح...</td>\n",
       "      <td>NaN</td>\n",
       "      <td>3084</td>\n",
       "      <td>NaN</td>\n",
       "      <td>2014-07-16 18:11:56</td>\n",
       "      <td>...</td>\n",
       "      <td>2014</td>\n",
       "      <td>7</td>\n",
       "      <td>16</td>\n",
       "      <td>Wednesday</td>\n",
       "      <td>18</td>\n",
       "      <td>1</td>\n",
       "      <td>V0qaisLdP-k</td>\n",
       "      <td>NaN</td>\n",
       "      <td>NaN</td>\n",
       "      <td>NaN</td>\n",
       "    </tr>\n",
       "    <tr>\n",
       "      <th>3</th>\n",
       "      <td>25</td>\n",
       "      <td>News &amp; Politics</td>\n",
       "      <td>0.0</td>\n",
       "      <td>NaN</td>\n",
       "      <td>hd</td>\n",
       "      <td>تناقش حلقة دنيانا هذا الأسبوع انطلاق الحملة ال...</td>\n",
       "      <td>4.0</td>\n",
       "      <td>3276</td>\n",
       "      <td>4.0</td>\n",
       "      <td>2014-09-27 15:19:37</td>\n",
       "      <td>...</td>\n",
       "      <td>2014</td>\n",
       "      <td>9</td>\n",
       "      <td>27</td>\n",
       "      <td>Saturday</td>\n",
       "      <td>15</td>\n",
       "      <td>1</td>\n",
       "      <td>9pkJrLq3qHk</td>\n",
       "      <td>8.0</td>\n",
       "      <td>0.463499</td>\n",
       "      <td>50.0</td>\n",
       "    </tr>\n",
       "    <tr>\n",
       "      <th>4</th>\n",
       "      <td>25</td>\n",
       "      <td>News &amp; Politics</td>\n",
       "      <td>0.0</td>\n",
       "      <td>NaN</td>\n",
       "      <td>sd</td>\n",
       "      <td>أين تقف تركيا من الصراع الدائر في مصر حاليا ؟\\...</td>\n",
       "      <td>NaN</td>\n",
       "      <td>3090</td>\n",
       "      <td>NaN</td>\n",
       "      <td>2013-07-15 17:31:53</td>\n",
       "      <td>...</td>\n",
       "      <td>2013</td>\n",
       "      <td>7</td>\n",
       "      <td>15</td>\n",
       "      <td>Monday</td>\n",
       "      <td>17</td>\n",
       "      <td>1</td>\n",
       "      <td>b3svYUneFQc</td>\n",
       "      <td>NaN</td>\n",
       "      <td>NaN</td>\n",
       "      <td>NaN</td>\n",
       "    </tr>\n",
       "  </tbody>\n",
       "</table>\n",
       "<p>5 rows × 24 columns</p>\n",
       "</div>"
      ],
      "text/plain": [
       "   categoryId    category_name  commentCount defaultLanguage definition  \\\n",
       "0          25  News & Politics           0.0             NaN         sd   \n",
       "1          25  News & Politics           1.0             NaN         hd   \n",
       "2          25  News & Politics           2.0             NaN         sd   \n",
       "3          25  News & Politics           0.0             NaN         hd   \n",
       "4          25  News & Politics           0.0             NaN         sd   \n",
       "\n",
       "                                         description  dislikeCount  duration  \\\n",
       "0  مشاركة أحمد الطاهر من #ليبيا في #أناالشاهد عن ...           0.0       290   \n",
       "1  ديفيد فنشر مخرج بارع, موهوب بإخراج أفلام غامضة...           0.0       288   \n",
       "2  تواصلوا مع مقدم الحلقة محمد عبد الحميد على صفح...           NaN      3084   \n",
       "3  تناقش حلقة دنيانا هذا الأسبوع انطلاق الحملة ال...           4.0      3276   \n",
       "4  أين تقف تركيا من الصراع الدائر في مصر حاليا ؟\\...           NaN      3090   \n",
       "\n",
       "   likeCount         publishedAt         ...         publish_year  \\\n",
       "0        2.0 2015-01-22 15:44:16         ...                 2015   \n",
       "1       19.0 2014-11-28 12:10:00         ...                 2014   \n",
       "2        NaN 2014-07-16 18:11:56         ...                 2014   \n",
       "3        4.0 2014-09-27 15:19:37         ...                 2014   \n",
       "4        NaN 2013-07-15 17:31:53         ...                 2013   \n",
       "\n",
       "  publish_month publish_day  publish_week_day  publish_hour  publish_duration  \\\n",
       "0             1          22          Thursday            15                 1   \n",
       "1            11          28            Friday            12                 1   \n",
       "2             7          16         Wednesday            18                 1   \n",
       "3             9          27          Saturday            15                 1   \n",
       "4             7          15            Monday            17                 1   \n",
       "\n",
       "       videoId total_interaction  interaction_percent  dislike_percentage  \n",
       "0  UvRqn5R-Buc               2.0             0.462963                 0.0  \n",
       "1  i9hOn7RNl10              20.0             2.123142                 0.0  \n",
       "2  V0qaisLdP-k               NaN                  NaN                 NaN  \n",
       "3  9pkJrLq3qHk               8.0             0.463499                50.0  \n",
       "4  b3svYUneFQc               NaN                  NaN                 NaN  \n",
       "\n",
       "[5 rows x 24 columns]"
      ]
     },
     "execution_count": 25,
     "metadata": {},
     "output_type": "execute_result"
    }
   ],
   "source": [
    "DF.head()"
   ]
  },
  {
   "cell_type": "code",
   "execution_count": 26,
   "metadata": {
    "collapsed": true
   },
   "outputs": [],
   "source": [
    "look_on_columns = ['viewCount', 'likeCount', 'dislikeCount', 'commentCount'] # only looking at correlations between these variables"
   ]
  },
  {
   "cell_type": "code",
   "execution_count": 27,
   "metadata": {
    "collapsed": true
   },
   "outputs": [],
   "source": [
    "DF[look_on_columns] = DF[look_on_columns].fillna(0)"
   ]
  },
  {
   "cell_type": "code",
   "execution_count": 28,
   "metadata": {},
   "outputs": [
    {
     "data": {
      "text/html": [
       "<div>\n",
       "<style>\n",
       "    .dataframe thead tr:only-child th {\n",
       "        text-align: right;\n",
       "    }\n",
       "\n",
       "    .dataframe thead th {\n",
       "        text-align: left;\n",
       "    }\n",
       "\n",
       "    .dataframe tbody tr th {\n",
       "        vertical-align: top;\n",
       "    }\n",
       "</style>\n",
       "<table border=\"1\" class=\"dataframe\">\n",
       "  <thead>\n",
       "    <tr style=\"text-align: right;\">\n",
       "      <th></th>\n",
       "      <th>viewCount</th>\n",
       "      <th>likeCount</th>\n",
       "      <th>dislikeCount</th>\n",
       "      <th>commentCount</th>\n",
       "    </tr>\n",
       "  </thead>\n",
       "  <tbody>\n",
       "    <tr>\n",
       "      <th>viewCount</th>\n",
       "      <td>1.000000</td>\n",
       "      <td>0.656276</td>\n",
       "      <td>0.468667</td>\n",
       "      <td>0.457238</td>\n",
       "    </tr>\n",
       "    <tr>\n",
       "      <th>likeCount</th>\n",
       "      <td>0.656276</td>\n",
       "      <td>1.000000</td>\n",
       "      <td>0.546461</td>\n",
       "      <td>0.616247</td>\n",
       "    </tr>\n",
       "    <tr>\n",
       "      <th>dislikeCount</th>\n",
       "      <td>0.468667</td>\n",
       "      <td>0.546461</td>\n",
       "      <td>1.000000</td>\n",
       "      <td>0.649403</td>\n",
       "    </tr>\n",
       "    <tr>\n",
       "      <th>commentCount</th>\n",
       "      <td>0.457238</td>\n",
       "      <td>0.616247</td>\n",
       "      <td>0.649403</td>\n",
       "      <td>1.000000</td>\n",
       "    </tr>\n",
       "  </tbody>\n",
       "</table>\n",
       "</div>"
      ],
      "text/plain": [
       "              viewCount  likeCount  dislikeCount  commentCount\n",
       "viewCount      1.000000   0.656276      0.468667      0.457238\n",
       "likeCount      0.656276   1.000000      0.546461      0.616247\n",
       "dislikeCount   0.468667   0.546461      1.000000      0.649403\n",
       "commentCount   0.457238   0.616247      0.649403      1.000000"
      ]
     },
     "execution_count": 28,
     "metadata": {},
     "output_type": "execute_result"
    }
   ],
   "source": [
    "corr_matrix = DF[look_on_columns].corr()\n",
    "corr_matrix"
   ]
  },
  {
   "cell_type": "code",
   "execution_count": 29,
   "metadata": {
    "collapsed": true
   },
   "outputs": [],
   "source": [
    "def visualize_most(_DF, column, num = 10):\n",
    "    sorted_df = _DF.sort_values(column, ascending=False).iloc[:num]\n",
    "    \n",
    "    ax = sorted_df[column].plot.bar()\n",
    "    \n",
    "    # customizes the video titles, for asthetic purposes for the bar chart\n",
    "    labels = []\n",
    "    cnt = 1\n",
    "    for item in sorted_df['title']:\n",
    "        print(cnt,\") \" ,item)\n",
    "        cnt += 1\n",
    "        labels.append(item[:10] + '...')\n",
    "    ax.set_xticklabels(labels, rotation=45, fontsize=10)\n",
    "    \n",
    "    plt.show()"
   ]
  },
  {
   "cell_type": "code",
   "execution_count": 30,
   "metadata": {},
   "outputs": [
    {
     "name": "stdout",
     "output_type": "stream",
     "text": [
      "1 )  صور درامية للتسونامي الذي ضرب اليابان\n",
      "2 )  BBC Arabic Live - البث المباشر لتلفزيون بي بي سي عربي\n",
      "3 )  محطم تمثال صدام حسين نادم على فعلته\n",
      "4 )  سكر فتاة مصرية تحلق شعر الرجال\n",
      "5 )  قناصة أكراد في معارك مع مسلحي \"داعش\"\n",
      "6 )  صور جديدة لتسونامي اليابان المدمر\n",
      "7 )  سوري يسبح من تركيا إلى اليونان - أنا الشاهد\n",
      "8 )  أنا الشاهد: هل يمكن لبطل رفع أثقال أن يأكل \"ساندويتش شاورما\" بطول مترين\n",
      "9 )  لحظة سقوط الرئيس اللبناني ميشال عون أرضا في القمة العربية\n",
      "10 )  هل انتهى تنظيم  الدولة الإسلامية فعلا ؟\n"
     ]
    },
    {
     "data": {
      "image/png": "[encoded data removed]",
      "text/plain": [
       "<matplotlib.figure.Figure at 0x26f9d27ec18>"
      ]
     },
     "metadata": {},
     "output_type": "display_data"
    }
   ],
   "source": [
    "visualize_most(DF, 'viewCount')"
   ]
  },
  {
   "cell_type": "code",
   "execution_count": 31,
   "metadata": {},
   "outputs": [
    {
     "name": "stdout",
     "output_type": "stream",
     "text": [
      "1 )  سوري يسبح من تركيا إلى اليونان - أنا الشاهد\n",
      "2 )  سكر فتاة مصرية تحلق شعر الرجال\n",
      "3 )  محطم تمثال صدام حسين نادم على فعلته\n",
      "4 )  صور درامية للتسونامي الذي ضرب اليابان\n",
      "5 )  كاميرا بي بي سي تحلق فوق الموصل - فيديو بتقنية 360 درجة\n",
      "6 )  أنا الشاهد: هل يمكن لبطل رفع أثقال أن يأكل \"ساندويتش شاورما\" بطول مترين\n",
      "7 )  بي_بي_سي_ترندينغ | #محمد_صلاح يحقق أمنية طفل انجليزي كتب له أغنية\n",
      "8 )  الفيلم الوثائقي: حصار مكة\n",
      "9 )  بي بي سي ترافق قناصة الرد السريع إلى الموصل القديمة\n",
      "10 )  بي_بي_سي_ترندينغ: كيف سخر المصريون من أوتوبيس المنتخب الوطني؟ #مصر #المونديال\n"
     ]
    },
    {
     "data": {
      "image/png": "[encoded data removed]",
      "text/plain": [
       "<matplotlib.figure.Figure at 0x26f9d12b208>"
      ]
     },
     "metadata": {},
     "output_type": "display_data"
    }
   ],
   "source": [
    "visualize_most(DF, 'likeCount')"
   ]
  },
  {
   "cell_type": "code",
   "execution_count": 32,
   "metadata": {},
   "outputs": [
    {
     "name": "stdout",
     "output_type": "stream",
     "text": [
      "1 )  الحراك السري في السعودية -  فيلم وثائقي\n",
      "2 )  وثائقي بي بي سي \"أمراء آل سعود المخطوفون\"\n",
      "3 )  إمام أمريكي مثلي يزوج المسلمين المثليين\n",
      "4 )  صور درامية للتسونامي الذي ضرب اليابان\n",
      "5 )  هل انتهى تنظيم  الدولة الإسلامية فعلا ؟\n",
      "6 )  لحظة سقوط الرئيس اللبناني ميشال عون أرضا في القمة العربية\n",
      "7 )  الفيلم الوثائقي: الحوثيون من الجبل إلى السلطة\n",
      "8 )  الفيلم الوثائقي: حصار مكة\n",
      "9 )  سكر فتاة مصرية تحلق شعر الرجال\n",
      "10 )  أنا الشاهد: هل يمكن لبطل رفع أثقال أن يأكل \"ساندويتش شاورما\" بطول مترين\n"
     ]
    },
    {
     "data": {
      "image/png": "[encoded data removed]",
      "text/plain": [
       "<matplotlib.figure.Figure at 0x26f9d03b748>"
      ]
     },
     "metadata": {},
     "output_type": "display_data"
    }
   ],
   "source": [
    "visualize_most(DF, 'dislikeCount')"
   ]
  },
  {
   "cell_type": "code",
   "execution_count": 33,
   "metadata": {},
   "outputs": [
    {
     "name": "stdout",
     "output_type": "stream",
     "text": [
      "1 )  هل انتهى تنظيم  الدولة الإسلامية فعلا ؟\n",
      "2 )  إمام أمريكي مثلي يزوج المسلمين المثليين\n",
      "3 )  لحظة سقوط الرئيس اللبناني ميشال عون أرضا في القمة العربية\n",
      "4 )  محطم تمثال صدام حسين نادم على فعلته\n",
      "5 )  وثائقي بي بي سي \"أمراء آل سعود المخطوفون\"\n",
      "6 )  الفيلم الوثائقي: جنود إسرائيل العرب\n",
      "7 )  بي_بي_سي_ترندينغ: إمام مسجد أردني يصلي التراويح وحده بعد مغادرة المصلين في منتصف الصلاة #الأردن\n",
      "8 )  بي_بي_سي_ترندينغ | غضب في #السودان من مسلسل \"بلوك غشمرة\" الكويتي  #الكويت\n",
      "9 )  الفيلم الوثائقي: حصار مكة\n",
      "10 )  شيخ مشايخ قبيلة شمر حميدي دهام الجربا - بلا قيود\n"
     ]
    },
    {
     "data": {
      "image/png": "[encoded data removed]",
      "text/plain": [
       "<matplotlib.figure.Figure at 0x26f9d1a7a20>"
      ]
     },
     "metadata": {},
     "output_type": "display_data"
    }
   ],
   "source": [
    "visualize_most(DF, 'commentCount')"
   ]
  },
  {
   "cell_type": "code",
   "execution_count": 34,
   "metadata": {},
   "outputs": [
    {
     "data": {
      "image/png": "[encoded data removed]",
      "text/plain": [
       "<matplotlib.figure.Figure at 0x26f9be80ba8>"
      ]
     },
     "metadata": {},
     "output_type": "display_data"
    }
   ],
   "source": [
    "plt.figure(figsize = (12,6))\n",
    "\n",
    "plt.subplot(221)\n",
    "g1 = sns.distplot(np.log(DF['viewCount'] + 1))\n",
    "g1.set_title(\"VIEWS LOG DISTRIBUITION\", fontsize=16)\n",
    "\n",
    "plt.subplot(224)\n",
    "g2 = sns.distplot(np.log(DF['likeCount'] + 1),color='green')\n",
    "g2.set_title('LIKES LOG DISTRIBUITION', fontsize=16)\n",
    "\n",
    "plt.subplot(223)\n",
    "g3 = sns.distplot(np.log(DF['dislikeCount'] + 1), color='r')\n",
    "g3.set_title(\"DISLIKES LOG DISTRIBUITION\", fontsize=16)\n",
    "\n",
    "plt.subplot(222)\n",
    "g4 = sns.distplot(np.log(DF['commentCount'] + 1))\n",
    "g4.set_title(\"COMMENTS LOG DISTRIBUITION\", fontsize=16)\n",
    "\n",
    "plt.subplots_adjust(wspace = 0.2, hspace = 0.4,top = 0.9)\n",
    "\n",
    "plt.show()"
   ]
  },
  {
   "cell_type": "code",
   "execution_count": 35,
   "metadata": {
    "collapsed": true
   },
   "outputs": [],
   "source": [
    "def visualize_(col, name):\n",
    "    plt.figure(figsize = (14,9))\n",
    "\n",
    "    plt.subplot(211)\n",
    "    g = sns.countplot(col, data=DF, palette=\"Set1\")\n",
    "    g.set_xticklabels(g.get_xticklabels(),rotation=45)\n",
    "    g.set_title(\"Counting Publish On \" + name, fontsize=20)\n",
    "    g.set_xlabel(name, fontsize=15)\n",
    "    g.set_ylabel(\"Count\", fontsize=15)\n",
    "    plt.show()"
   ]
  },
  {
   "cell_type": "code",
   "execution_count": 36,
   "metadata": {},
   "outputs": [
    {
     "data": {
      "image/png": "[encoded data removed]",
      "text/plain": [
       "<matplotlib.figure.Figure at 0x26f9d7c4cf8>"
      ]
     },
     "metadata": {},
     "output_type": "display_data"
    }
   ],
   "source": [
    "visualize_('publish_duration', 'Duration')"
   ]
  },
  {
   "cell_type": "code",
   "execution_count": 37,
   "metadata": {
    "collapsed": true
   },
   "outputs": [],
   "source": [
    "publish_durationCnt = DF['publish_duration'].value_counts()"
   ]
  },
  {
   "cell_type": "code",
   "execution_count": 38,
   "metadata": {
    "collapsed": true
   },
   "outputs": [],
   "source": [
    "PMview = DF[DF['publish_duration'] == 1]['viewCount'].sum()"
   ]
  },
  {
   "cell_type": "code",
   "execution_count": 39,
   "metadata": {
    "collapsed": true
   },
   "outputs": [],
   "source": [
    "AMview = DF[DF['publish_duration'] == 0]['viewCount'].sum()"
   ]
  },
  {
   "cell_type": "code",
   "execution_count": 40,
   "metadata": {},
   "outputs": [
    {
     "data": {
      "text/plain": [
       "30607.26531826294"
      ]
     },
     "execution_count": 40,
     "metadata": {},
     "output_type": "execute_result"
    }
   ],
   "source": [
    "PMview / publish_durationCnt[1]"
   ]
  },
  {
   "cell_type": "code",
   "execution_count": 41,
   "metadata": {},
   "outputs": [
    {
     "data": {
      "text/plain": [
       "105540.12923076923"
      ]
     },
     "execution_count": 41,
     "metadata": {},
     "output_type": "execute_result"
    }
   ],
   "source": [
    "PMview / publish_durationCnt[0]"
   ]
  },
  {
   "cell_type": "code",
   "execution_count": 42,
   "metadata": {},
   "outputs": [
    {
     "data": {
      "image/png": "[encoded data removed]",
      "text/plain": [
       "<matplotlib.figure.Figure at 0x26f9d2b69e8>"
      ]
     },
     "metadata": {},
     "output_type": "display_data"
    }
   ],
   "source": [
    "visualize_('publish_month', 'Months')"
   ]
  },
  {
   "cell_type": "code",
   "execution_count": 43,
   "metadata": {
    "collapsed": true
   },
   "outputs": [],
   "source": [
    "months = []\n",
    "for i in range(1, 13):\n",
    "    months.append(DF[DF['publish_month'] == i]['viewCount'].sum())"
   ]
  },
  {
   "cell_type": "code",
   "execution_count": 44,
   "metadata": {},
   "outputs": [
    {
     "data": {
      "text/plain": [
       "[<matplotlib.lines.Line2D at 0x26f9d78f940>]"
      ]
     },
     "execution_count": 44,
     "metadata": {},
     "output_type": "execute_result"
    },
    {
     "data": {
      "image/png": "[encoded data removed]",
      "text/plain": [
       "<matplotlib.figure.Figure at 0x26f9d0951d0>"
      ]
     },
     "metadata": {},
     "output_type": "display_data"
    }
   ],
   "source": [
    "plt.plot(months)"
   ]
  },
  {
   "cell_type": "code",
   "execution_count": 45,
   "metadata": {},
   "outputs": [
    {
     "data": {
      "text/html": [
       "<div>\n",
       "<style>\n",
       "    .dataframe thead tr:only-child th {\n",
       "        text-align: right;\n",
       "    }\n",
       "\n",
       "    .dataframe thead th {\n",
       "        text-align: left;\n",
       "    }\n",
       "\n",
       "    .dataframe tbody tr th {\n",
       "        vertical-align: top;\n",
       "    }\n",
       "</style>\n",
       "<table border=\"1\" class=\"dataframe\">\n",
       "  <thead>\n",
       "    <tr style=\"text-align: right;\">\n",
       "      <th></th>\n",
       "      <th>views</th>\n",
       "      <th>Days</th>\n",
       "    </tr>\n",
       "  </thead>\n",
       "  <tbody>\n",
       "    <tr>\n",
       "      <th>2</th>\n",
       "      <td>21802566</td>\n",
       "      <td>3</td>\n",
       "    </tr>\n",
       "    <tr>\n",
       "      <th>10</th>\n",
       "      <td>17213622</td>\n",
       "      <td>11</td>\n",
       "    </tr>\n",
       "    <tr>\n",
       "      <th>1</th>\n",
       "      <td>12394119</td>\n",
       "      <td>2</td>\n",
       "    </tr>\n",
       "    <tr>\n",
       "      <th>6</th>\n",
       "      <td>11639803</td>\n",
       "      <td>7</td>\n",
       "    </tr>\n",
       "    <tr>\n",
       "      <th>5</th>\n",
       "      <td>10509202</td>\n",
       "      <td>6</td>\n",
       "    </tr>\n",
       "    <tr>\n",
       "      <th>0</th>\n",
       "      <td>10289295</td>\n",
       "      <td>1</td>\n",
       "    </tr>\n",
       "    <tr>\n",
       "      <th>4</th>\n",
       "      <td>10165289</td>\n",
       "      <td>5</td>\n",
       "    </tr>\n",
       "    <tr>\n",
       "      <th>7</th>\n",
       "      <td>9764053</td>\n",
       "      <td>8</td>\n",
       "    </tr>\n",
       "    <tr>\n",
       "      <th>3</th>\n",
       "      <td>9184531</td>\n",
       "      <td>4</td>\n",
       "    </tr>\n",
       "    <tr>\n",
       "      <th>9</th>\n",
       "      <td>5935839</td>\n",
       "      <td>10</td>\n",
       "    </tr>\n",
       "    <tr>\n",
       "      <th>11</th>\n",
       "      <td>5076343</td>\n",
       "      <td>12</td>\n",
       "    </tr>\n",
       "    <tr>\n",
       "      <th>8</th>\n",
       "      <td>4326927</td>\n",
       "      <td>9</td>\n",
       "    </tr>\n",
       "  </tbody>\n",
       "</table>\n",
       "</div>"
      ],
      "text/plain": [
       "       views  Days\n",
       "2   21802566     3\n",
       "10  17213622    11\n",
       "1   12394119     2\n",
       "6   11639803     7\n",
       "5   10509202     6\n",
       "0   10289295     1\n",
       "4   10165289     5\n",
       "7    9764053     8\n",
       "3    9184531     4\n",
       "9    5935839    10\n",
       "11   5076343    12\n",
       "8    4326927     9"
      ]
     },
     "execution_count": 45,
     "metadata": {},
     "output_type": "execute_result"
    }
   ],
   "source": [
    "MonthsDF = pd.DataFrame(months, columns=['views'])\n",
    "MonthsDF['Days'] = list(range(1,13))\n",
    "MonthsDF.sort_values('views', inplace=True, ascending=False)\n",
    "MonthsDF"
   ]
  },
  {
   "cell_type": "code",
   "execution_count": 46,
   "metadata": {},
   "outputs": [
    {
     "data": {
      "image/png": "[encoded data removed]",
      "text/plain": [
       "<matplotlib.figure.Figure at 0x26f9dca93c8>"
      ]
     },
     "metadata": {},
     "output_type": "display_data"
    }
   ],
   "source": [
    "visualize_('publish_day', 'Days')"
   ]
  },
  {
   "cell_type": "code",
   "execution_count": 47,
   "metadata": {
    "collapsed": true
   },
   "outputs": [],
   "source": [
    "days = []\n",
    "for i in range(1, 32):\n",
    "    days.append(DF[DF['publish_day'] == i]['viewCount'].sum())"
   ]
  },
  {
   "cell_type": "code",
   "execution_count": 48,
   "metadata": {},
   "outputs": [
    {
     "data": {
      "text/plain": [
       "[<matplotlib.lines.Line2D at 0x26f9e302630>]"
      ]
     },
     "execution_count": 48,
     "metadata": {},
     "output_type": "execute_result"
    },
    {
     "data": {
      "image/png": "[encoded data removed]",
      "text/plain": [
       "<matplotlib.figure.Figure at 0x26f9dd41cc0>"
      ]
     },
     "metadata": {},
     "output_type": "display_data"
    }
   ],
   "source": [
    "plt.plot(days)"
   ]
  },
  {
   "cell_type": "code",
   "execution_count": 49,
   "metadata": {},
   "outputs": [
    {
     "data": {
      "text/html": [
       "<div>\n",
       "<style>\n",
       "    .dataframe thead tr:only-child th {\n",
       "        text-align: right;\n",
       "    }\n",
       "\n",
       "    .dataframe thead th {\n",
       "        text-align: left;\n",
       "    }\n",
       "\n",
       "    .dataframe tbody tr th {\n",
       "        vertical-align: top;\n",
       "    }\n",
       "</style>\n",
       "<table border=\"1\" class=\"dataframe\">\n",
       "  <thead>\n",
       "    <tr style=\"text-align: right;\">\n",
       "      <th></th>\n",
       "      <th>views</th>\n",
       "      <th>Days</th>\n",
       "    </tr>\n",
       "  </thead>\n",
       "  <tbody>\n",
       "    <tr>\n",
       "      <th>14</th>\n",
       "      <td>12997231</td>\n",
       "      <td>15</td>\n",
       "    </tr>\n",
       "    <tr>\n",
       "      <th>13</th>\n",
       "      <td>10119756</td>\n",
       "      <td>14</td>\n",
       "    </tr>\n",
       "    <tr>\n",
       "      <th>5</th>\n",
       "      <td>8725385</td>\n",
       "      <td>6</td>\n",
       "    </tr>\n",
       "    <tr>\n",
       "      <th>16</th>\n",
       "      <td>6683349</td>\n",
       "      <td>17</td>\n",
       "    </tr>\n",
       "    <tr>\n",
       "      <th>29</th>\n",
       "      <td>6305460</td>\n",
       "      <td>30</td>\n",
       "    </tr>\n",
       "    <tr>\n",
       "      <th>20</th>\n",
       "      <td>6113746</td>\n",
       "      <td>21</td>\n",
       "    </tr>\n",
       "    <tr>\n",
       "      <th>17</th>\n",
       "      <td>5674287</td>\n",
       "      <td>18</td>\n",
       "    </tr>\n",
       "    <tr>\n",
       "      <th>22</th>\n",
       "      <td>5589487</td>\n",
       "      <td>23</td>\n",
       "    </tr>\n",
       "    <tr>\n",
       "      <th>26</th>\n",
       "      <td>5396505</td>\n",
       "      <td>27</td>\n",
       "    </tr>\n",
       "    <tr>\n",
       "      <th>18</th>\n",
       "      <td>5116092</td>\n",
       "      <td>19</td>\n",
       "    </tr>\n",
       "    <tr>\n",
       "      <th>9</th>\n",
       "      <td>5018402</td>\n",
       "      <td>10</td>\n",
       "    </tr>\n",
       "    <tr>\n",
       "      <th>4</th>\n",
       "      <td>4903899</td>\n",
       "      <td>5</td>\n",
       "    </tr>\n",
       "    <tr>\n",
       "      <th>25</th>\n",
       "      <td>4868131</td>\n",
       "      <td>26</td>\n",
       "    </tr>\n",
       "    <tr>\n",
       "      <th>0</th>\n",
       "      <td>4641105</td>\n",
       "      <td>1</td>\n",
       "    </tr>\n",
       "    <tr>\n",
       "      <th>28</th>\n",
       "      <td>4538910</td>\n",
       "      <td>29</td>\n",
       "    </tr>\n",
       "    <tr>\n",
       "      <th>6</th>\n",
       "      <td>3862139</td>\n",
       "      <td>7</td>\n",
       "    </tr>\n",
       "    <tr>\n",
       "      <th>10</th>\n",
       "      <td>3046040</td>\n",
       "      <td>11</td>\n",
       "    </tr>\n",
       "    <tr>\n",
       "      <th>15</th>\n",
       "      <td>2931606</td>\n",
       "      <td>16</td>\n",
       "    </tr>\n",
       "    <tr>\n",
       "      <th>3</th>\n",
       "      <td>2894083</td>\n",
       "      <td>4</td>\n",
       "    </tr>\n",
       "    <tr>\n",
       "      <th>11</th>\n",
       "      <td>2731083</td>\n",
       "      <td>12</td>\n",
       "    </tr>\n",
       "    <tr>\n",
       "      <th>21</th>\n",
       "      <td>2124411</td>\n",
       "      <td>22</td>\n",
       "    </tr>\n",
       "    <tr>\n",
       "      <th>23</th>\n",
       "      <td>2123647</td>\n",
       "      <td>24</td>\n",
       "    </tr>\n",
       "    <tr>\n",
       "      <th>27</th>\n",
       "      <td>2032508</td>\n",
       "      <td>28</td>\n",
       "    </tr>\n",
       "    <tr>\n",
       "      <th>7</th>\n",
       "      <td>1814719</td>\n",
       "      <td>8</td>\n",
       "    </tr>\n",
       "    <tr>\n",
       "      <th>19</th>\n",
       "      <td>1813763</td>\n",
       "      <td>20</td>\n",
       "    </tr>\n",
       "    <tr>\n",
       "      <th>8</th>\n",
       "      <td>1404931</td>\n",
       "      <td>9</td>\n",
       "    </tr>\n",
       "    <tr>\n",
       "      <th>30</th>\n",
       "      <td>1323515</td>\n",
       "      <td>31</td>\n",
       "    </tr>\n",
       "    <tr>\n",
       "      <th>1</th>\n",
       "      <td>923347</td>\n",
       "      <td>2</td>\n",
       "    </tr>\n",
       "    <tr>\n",
       "      <th>24</th>\n",
       "      <td>883859</td>\n",
       "      <td>25</td>\n",
       "    </tr>\n",
       "    <tr>\n",
       "      <th>2</th>\n",
       "      <td>855740</td>\n",
       "      <td>3</td>\n",
       "    </tr>\n",
       "    <tr>\n",
       "      <th>12</th>\n",
       "      <td>844453</td>\n",
       "      <td>13</td>\n",
       "    </tr>\n",
       "  </tbody>\n",
       "</table>\n",
       "</div>"
      ],
      "text/plain": [
       "       views  Days\n",
       "14  12997231    15\n",
       "13  10119756    14\n",
       "5    8725385     6\n",
       "16   6683349    17\n",
       "29   6305460    30\n",
       "20   6113746    21\n",
       "17   5674287    18\n",
       "22   5589487    23\n",
       "26   5396505    27\n",
       "18   5116092    19\n",
       "9    5018402    10\n",
       "4    4903899     5\n",
       "25   4868131    26\n",
       "0    4641105     1\n",
       "28   4538910    29\n",
       "6    3862139     7\n",
       "10   3046040    11\n",
       "15   2931606    16\n",
       "3    2894083     4\n",
       "11   2731083    12\n",
       "21   2124411    22\n",
       "23   2123647    24\n",
       "27   2032508    28\n",
       "7    1814719     8\n",
       "19   1813763    20\n",
       "8    1404931     9\n",
       "30   1323515    31\n",
       "1     923347     2\n",
       "24    883859    25\n",
       "2     855740     3\n",
       "12    844453    13"
      ]
     },
     "execution_count": 49,
     "metadata": {},
     "output_type": "execute_result"
    }
   ],
   "source": [
    "DaysDF = pd.DataFrame(days, columns=['views'])\n",
    "DaysDF['Days'] = list(range(1,32))\n",
    "DaysDF.sort_values('views', inplace=True, ascending=False)\n",
    "DaysDF"
   ]
  },
  {
   "cell_type": "code",
   "execution_count": 50,
   "metadata": {
    "collapsed": true
   },
   "outputs": [],
   "source": [
    "week_days = ['Sunday', 'Monday', 'Tuesday', 'Wednesday', 'Thursday', 'Friday', 'Saturday']"
   ]
  },
  {
   "cell_type": "code",
   "execution_count": 51,
   "metadata": {},
   "outputs": [
    {
     "data": {
      "image/png": "[encoded data removed]",
      "text/plain": [
       "<matplotlib.figure.Figure at 0x26f9e04c128>"
      ]
     },
     "metadata": {},
     "output_type": "display_data"
    }
   ],
   "source": [
    "visualize_('publish_week_day', 'Week Days')"
   ]
  },
  {
   "cell_type": "code",
   "execution_count": 52,
   "metadata": {},
   "outputs": [],
   "source": [
    "days_of_week = []\n",
    "for i in week_days:\n",
    "    days_of_week.append(DF[DF['publish_week_day'] == i]['viewCount'].sum())"
   ]
  },
  {
   "cell_type": "code",
   "execution_count": 53,
   "metadata": {},
   "outputs": [
    {
     "data": {
      "text/plain": [
       "[<matplotlib.lines.Line2D at 0x26f9e27cba8>]"
      ]
     },
     "execution_count": 53,
     "metadata": {},
     "output_type": "execute_result"
    },
    {
     "data": {
      "image/png": "[encoded data removed]",
      "text/plain": [
       "<matplotlib.figure.Figure at 0x26f9e0f60f0>"
      ]
     },
     "metadata": {},
     "output_type": "display_data"
    }
   ],
   "source": [
    "plt.plot(days_of_week)"
   ]
  },
  {
   "cell_type": "code",
   "execution_count": 54,
   "metadata": {},
   "outputs": [
    {
     "data": {
      "text/html": [
       "<div>\n",
       "<style>\n",
       "    .dataframe thead tr:only-child th {\n",
       "        text-align: right;\n",
       "    }\n",
       "\n",
       "    .dataframe thead th {\n",
       "        text-align: left;\n",
       "    }\n",
       "\n",
       "    .dataframe tbody tr th {\n",
       "        vertical-align: top;\n",
       "    }\n",
       "</style>\n",
       "<table border=\"1\" class=\"dataframe\">\n",
       "  <thead>\n",
       "    <tr style=\"text-align: right;\">\n",
       "      <th></th>\n",
       "      <th>views</th>\n",
       "      <th>week_days</th>\n",
       "    </tr>\n",
       "  </thead>\n",
       "  <tbody>\n",
       "    <tr>\n",
       "      <th>4</th>\n",
       "      <td>28651778</td>\n",
       "      <td>Thursday</td>\n",
       "    </tr>\n",
       "    <tr>\n",
       "      <th>2</th>\n",
       "      <td>27950188</td>\n",
       "      <td>Tuesday</td>\n",
       "    </tr>\n",
       "    <tr>\n",
       "      <th>3</th>\n",
       "      <td>23291546</td>\n",
       "      <td>Wednesday</td>\n",
       "    </tr>\n",
       "    <tr>\n",
       "      <th>1</th>\n",
       "      <td>23036696</td>\n",
       "      <td>Monday</td>\n",
       "    </tr>\n",
       "    <tr>\n",
       "      <th>6</th>\n",
       "      <td>9549683</td>\n",
       "      <td>Saturday</td>\n",
       "    </tr>\n",
       "    <tr>\n",
       "      <th>5</th>\n",
       "      <td>9196169</td>\n",
       "      <td>Friday</td>\n",
       "    </tr>\n",
       "    <tr>\n",
       "      <th>0</th>\n",
       "      <td>6625529</td>\n",
       "      <td>Sunday</td>\n",
       "    </tr>\n",
       "  </tbody>\n",
       "</table>\n",
       "</div>"
      ],
      "text/plain": [
       "      views  week_days\n",
       "4  28651778   Thursday\n",
       "2  27950188    Tuesday\n",
       "3  23291546  Wednesday\n",
       "1  23036696     Monday\n",
       "6   9549683   Saturday\n",
       "5   9196169     Friday\n",
       "0   6625529     Sunday"
      ]
     },
     "execution_count": 54,
     "metadata": {},
     "output_type": "execute_result"
    }
   ],
   "source": [
    "weekDaysDF = pd.DataFrame(days_of_week, columns=['views'])\n",
    "weekDaysDF['week_days'] = week_days\n",
    "weekDaysDF.sort_values('views', inplace=True, ascending=False)\n",
    "weekDaysDF"
   ]
  },
  {
   "cell_type": "code",
   "execution_count": 55,
   "metadata": {
    "collapsed": true
   },
   "outputs": [],
   "source": [
    "definitionCnt = DF['definition'].value_counts()"
   ]
  },
  {
   "cell_type": "code",
   "execution_count": 56,
   "metadata": {},
   "outputs": [
    {
     "data": {
      "text/plain": [
       "<matplotlib.axes._subplots.AxesSubplot at 0x26f9e12b208>"
      ]
     },
     "execution_count": 56,
     "metadata": {},
     "output_type": "execute_result"
    },
    {
     "data": {
      "image/png": "[encoded data removed]",
      "text/plain": [
       "<matplotlib.figure.Figure at 0x26f9e29fb38>"
      ]
     },
     "metadata": {},
     "output_type": "display_data"
    }
   ],
   "source": [
    "definitionCnt.plot.bar()"
   ]
  },
  {
   "cell_type": "code",
   "execution_count": 57,
   "metadata": {
    "collapsed": true
   },
   "outputs": [],
   "source": [
    "hdViews = DF[DF['definition'] == 'hd']['viewCount'].sum()"
   ]
  },
  {
   "cell_type": "code",
   "execution_count": 58,
   "metadata": {
    "collapsed": true
   },
   "outputs": [],
   "source": [
    "sdViews = DF[DF['definition'] == 'sd']['viewCount'].sum()"
   ]
  },
  {
   "cell_type": "code",
   "execution_count": 59,
   "metadata": {},
   "outputs": [
    {
     "data": {
      "text/plain": [
       "21700.954174067494"
      ]
     },
     "execution_count": 59,
     "metadata": {},
     "output_type": "execute_result"
    }
   ],
   "source": [
    "hdViews / definitionCnt['hd']"
   ]
  },
  {
   "cell_type": "code",
   "execution_count": 60,
   "metadata": {},
   "outputs": [
    {
     "data": {
      "text/plain": [
       "44161.237187910643"
      ]
     },
     "execution_count": 60,
     "metadata": {},
     "output_type": "execute_result"
    }
   ],
   "source": [
    "sdViews / definitionCnt['sd']"
   ]
  },
  {
   "cell_type": "code",
   "execution_count": 61,
   "metadata": {
    "collapsed": true
   },
   "outputs": [],
   "source": [
    " DF['defaultLanguage'].fillna('nan', inplace=True)"
   ]
  },
  {
   "cell_type": "code",
   "execution_count": 62,
   "metadata": {},
   "outputs": [
    {
     "data": {
      "text/plain": [
       "nan    2552\n",
       "ar     1785\n",
       "Name: defaultLanguage, dtype: int64"
      ]
     },
     "execution_count": 62,
     "metadata": {},
     "output_type": "execute_result"
    }
   ],
   "source": [
    "defaultLanguageCnt = DF['defaultLanguage'].value_counts()\n",
    "defaultLanguageCnt"
   ]
  },
  {
   "cell_type": "code",
   "execution_count": 63,
   "metadata": {},
   "outputs": [
    {
     "data": {
      "text/plain": [
       "<matplotlib.axes._subplots.AxesSubplot at 0x26f9dbc56a0>"
      ]
     },
     "execution_count": 63,
     "metadata": {},
     "output_type": "execute_result"
    },
    {
     "data": {
      "image/png": "[encoded data removed]",
      "text/plain": [
       "<matplotlib.figure.Figure at 0x26f9ddb7cc0>"
      ]
     },
     "metadata": {},
     "output_type": "display_data"
    }
   ],
   "source": [
    "defaultLanguageCnt.plot.bar()"
   ]
  },
  {
   "cell_type": "code",
   "execution_count": 64,
   "metadata": {
    "collapsed": true
   },
   "outputs": [],
   "source": [
    "arViews = DF[DF['defaultLanguage'] == 'ar']['viewCount'].sum()"
   ]
  },
  {
   "cell_type": "code",
   "execution_count": 65,
   "metadata": {
    "collapsed": true
   },
   "outputs": [],
   "source": [
    "nanViews = DF[DF['defaultLanguage'] == 'nan']['viewCount'].sum()"
   ]
  },
  {
   "cell_type": "code",
   "execution_count": 66,
   "metadata": {},
   "outputs": [
    {
     "data": {
      "text/plain": [
       "26209.597759103643"
      ]
     },
     "execution_count": 66,
     "metadata": {},
     "output_type": "execute_result"
    }
   ],
   "source": [
    "arViews / defaultLanguageCnt['ar']"
   ]
  },
  {
   "cell_type": "code",
   "execution_count": 67,
   "metadata": {},
   "outputs": [
    {
     "data": {
      "text/plain": [
       "31942.577194357367"
      ]
     },
     "execution_count": 67,
     "metadata": {},
     "output_type": "execute_result"
    }
   ],
   "source": [
    "nanViews / defaultLanguageCnt['nan']"
   ]
  },
  {
   "cell_type": "code",
   "execution_count": null,
   "metadata": {
    "collapsed": true
   },
   "outputs": [],
   "source": []
  }
 ],
 "metadata": {
  "kernelspec": {
   "display_name": "Python 3",
   "language": "python",
   "name": "python3"
  },
  "language_info": {
   "codemirror_mode": {
    "name": "ipython",
    "version": 3
   },
   "file_extension": ".py",
   "mimetype": "text/x-python",
   "name": "python",
   "nbconvert_exporter": "python",
   "pygments_lexer": "ipython3",
   "version": "3.6.1"
  }
 },
 "nbformat": 4,
 "nbformat_minor": 2
}
